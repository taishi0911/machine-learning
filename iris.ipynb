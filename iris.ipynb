{
 "cells": [
  {
   "cell_type": "code",
   "execution_count": 25,
   "metadata": {
    "collapsed": false
   },
   "outputs": [
    {
     "data": {
      "text/plain": [
       "\"<open file '/Users/okanotaishi/Desktop/iris.txt', mode 'r' at 0x105f31b70>\""
      ]
     },
     "execution_count": 25,
     "metadata": {},
     "output_type": "execute_result"
    }
   ],
   "source": [
    "__author__ = 'emoson'\n",
    "import matplotlib.pyplot as plt\n",
    "import numpy as np\n",
    "\n",
    "#ayame = open(\"/Users/okanotaishi/Desktop/iris.dat.txt\")\n",
    "\n",
    "str(iris)"
   ]
  },
  {
   "cell_type": "code",
   "execution_count": 26,
   "metadata": {
    "collapsed": false
   },
   "outputs": [],
   "source": [
    "def mnd(_x, _mu, _sig):\n",
    "    \"\"\"多次元正規分布\"\"\"\n",
    "    x = np.matrix(_x)\n",
    "    mu = np.matrix(_mu)\n",
    "    sig = np.matrix(_sig)\n",
    "    a = np.sqrt(np.linalg.det(sig)*(2*np.pi)**sig.ndim)\n",
    "    b = np.linalg.det(-0.5*(x-mu)*sig.I*(x-mu).T)\n",
    "    return np.exp(b)/a"
   ]
  },
  {
   "cell_type": "code",
   "execution_count": 27,
   "metadata": {
    "collapsed": true
   },
   "outputs": [],
   "source": [
    "def load(ayame_id, feature_list, file_path=\"./iris.dat.txt\"):\n",
    "    \"\"\"アヤメデータの読み込み\"\"\"\n",
    "    with open(file_path) as f:\n",
    "        if type(feature_list) is list:\n",
    "            return [[int(line.split(\" \")[feature]) for feature in feature_list] for line in f if int(line.split(\" \")[-2]) == ayame_id]\n",
    "        else:\n",
    "            return [int(line.split(\" \")[feature_list]) for line in f if int(line.split(\" \")[-2]) == ayame_id]\n"
   ]
  },
  {
   "cell_type": "code",
   "execution_count": 28,
   "metadata": {
    "collapsed": true
   },
   "outputs": [],
   "source": [
    "def mean_list(*vector):\n",
    "    \"\"\"平均ベクトルを返す\"\"\"\n",
    "    return [sum(vec)/len(vec) for vec in vector]\n",
    "\n",
    "\n",
    "def variance(vector1, vector2):\n",
    "    \"\"\"分散を求める\"\"\"\n",
    "    mean = mean_list(vector1, vector2)\n",
    "    return sum([(x-mean[0])*(y-mean[1]) for x, y in zip(vector1, vector2)])/len(vector1)\n",
    "\n",
    "\n"
   ]
  },
  {
   "cell_type": "code",
   "execution_count": 29,
   "metadata": {
    "collapsed": false
   },
   "outputs": [
    {
     "ename": "IOError",
     "evalue": "[Errno 2] No such file or directory: './iris.dat.txt'",
     "output_type": "error",
     "traceback": [
      "\u001b[0;31m---------------------------------------------------------------------------\u001b[0m",
      "\u001b[0;31mIOError\u001b[0m                                   Traceback (most recent call last)",
      "\u001b[0;32m<ipython-input-29-f896eb7b7e64>\u001b[0m in \u001b[0;36m<module>\u001b[0;34m()\u001b[0m\n\u001b[1;32m      7\u001b[0m     \u001b[0mtest_feature_list\u001b[0m \u001b[0;34m=\u001b[0m \u001b[0;34m[\u001b[0m\u001b[0;36m0\u001b[0m\u001b[0;34m,\u001b[0m \u001b[0;36m1\u001b[0m\u001b[0;34m,\u001b[0m \u001b[0;36m2\u001b[0m\u001b[0;34m,\u001b[0m \u001b[0;36m3\u001b[0m\u001b[0;34m]\u001b[0m\u001b[0;34m\u001b[0m\u001b[0m\n\u001b[1;32m      8\u001b[0m     \u001b[0mvectors\u001b[0m \u001b[0;34m=\u001b[0m \u001b[0mlist\u001b[0m\u001b[0;34m(\u001b[0m\u001b[0;34m)\u001b[0m\u001b[0;34m\u001b[0m\u001b[0m\n\u001b[0;32m----> 9\u001b[0;31m     \u001b[0mtest_vectors\u001b[0m \u001b[0;34m=\u001b[0m \u001b[0;34m[\u001b[0m\u001b[0mload\u001b[0m\u001b[0;34m(\u001b[0m\u001b[0mayame_id\u001b[0m\u001b[0;34m=\u001b[0m\u001b[0mayame_id\u001b[0m\u001b[0;34m,\u001b[0m \u001b[0mfeature_list\u001b[0m\u001b[0;34m=\u001b[0m\u001b[0mtest_feature_list\u001b[0m\u001b[0;34m)\u001b[0m \u001b[0;32mfor\u001b[0m \u001b[0mayame_id\u001b[0m \u001b[0;32min\u001b[0m \u001b[0mrange\u001b[0m\u001b[0;34m(\u001b[0m\u001b[0;36m1\u001b[0m\u001b[0;34m,\u001b[0m \u001b[0;36m4\u001b[0m\u001b[0;34m)\u001b[0m\u001b[0;34m]\u001b[0m\u001b[0;34m\u001b[0m\u001b[0m\n\u001b[0m\u001b[1;32m     10\u001b[0m \u001b[0;34m\u001b[0m\u001b[0m\n\u001b[1;32m     11\u001b[0m     \u001b[0;31m#特徴ベクトルの読み込み\u001b[0m\u001b[0;34m\u001b[0m\u001b[0;34m\u001b[0m\u001b[0m\n",
      "\u001b[0;32m<ipython-input-27-82d11b869ec7>\u001b[0m in \u001b[0;36mload\u001b[0;34m(ayame_id, feature_list, file_path)\u001b[0m\n\u001b[1;32m      1\u001b[0m \u001b[0;32mdef\u001b[0m \u001b[0mload\u001b[0m\u001b[0;34m(\u001b[0m\u001b[0mayame_id\u001b[0m\u001b[0;34m,\u001b[0m \u001b[0mfeature_list\u001b[0m\u001b[0;34m,\u001b[0m \u001b[0mfile_path\u001b[0m\u001b[0;34m=\u001b[0m\u001b[0;34m\"./iris.dat.txt\"\u001b[0m\u001b[0;34m)\u001b[0m\u001b[0;34m:\u001b[0m\u001b[0;34m\u001b[0m\u001b[0m\n\u001b[1;32m      2\u001b[0m     \u001b[0;34m\"\"\"アヤメデータの読み込み\"\"\"\u001b[0m\u001b[0;34m\u001b[0m\u001b[0m\n\u001b[0;32m----> 3\u001b[0;31m     \u001b[0;32mwith\u001b[0m \u001b[0mopen\u001b[0m\u001b[0;34m(\u001b[0m\u001b[0mfile_path\u001b[0m\u001b[0;34m)\u001b[0m \u001b[0;32mas\u001b[0m \u001b[0mf\u001b[0m\u001b[0;34m:\u001b[0m\u001b[0;34m\u001b[0m\u001b[0m\n\u001b[0m\u001b[1;32m      4\u001b[0m         \u001b[0;32mif\u001b[0m \u001b[0mtype\u001b[0m\u001b[0;34m(\u001b[0m\u001b[0mfeature_list\u001b[0m\u001b[0;34m)\u001b[0m \u001b[0;32mis\u001b[0m \u001b[0mlist\u001b[0m\u001b[0;34m:\u001b[0m\u001b[0;34m\u001b[0m\u001b[0m\n\u001b[1;32m      5\u001b[0m             \u001b[0;32mreturn\u001b[0m \u001b[0;34m[\u001b[0m\u001b[0;34m[\u001b[0m\u001b[0mint\u001b[0m\u001b[0;34m(\u001b[0m\u001b[0mline\u001b[0m\u001b[0;34m.\u001b[0m\u001b[0msplit\u001b[0m\u001b[0;34m(\u001b[0m\u001b[0;34m\" \"\u001b[0m\u001b[0;34m)\u001b[0m\u001b[0;34m[\u001b[0m\u001b[0mfeature\u001b[0m\u001b[0;34m]\u001b[0m\u001b[0;34m)\u001b[0m \u001b[0;32mfor\u001b[0m \u001b[0mfeature\u001b[0m \u001b[0;32min\u001b[0m \u001b[0mfeature_list\u001b[0m\u001b[0;34m]\u001b[0m \u001b[0;32mfor\u001b[0m \u001b[0mline\u001b[0m \u001b[0;32min\u001b[0m \u001b[0mf\u001b[0m \u001b[0;32mif\u001b[0m \u001b[0mint\u001b[0m\u001b[0;34m(\u001b[0m\u001b[0mline\u001b[0m\u001b[0;34m.\u001b[0m\u001b[0msplit\u001b[0m\u001b[0;34m(\u001b[0m\u001b[0;34m\" \"\u001b[0m\u001b[0;34m)\u001b[0m\u001b[0;34m[\u001b[0m\u001b[0;34m-\u001b[0m\u001b[0;36m2\u001b[0m\u001b[0;34m]\u001b[0m\u001b[0;34m)\u001b[0m \u001b[0;34m==\u001b[0m \u001b[0mayame_id\u001b[0m\u001b[0;34m]\u001b[0m\u001b[0;34m\u001b[0m\u001b[0m\n",
      "\u001b[0;31mIOError\u001b[0m: [Errno 2] No such file or directory: './iris.dat.txt'"
     ]
    }
   ],
   "source": [
    "def variance_covariance_matrix(*vectors):\n",
    "    \"\"\"分散共分散行列を返す\"\"\"\n",
    "    return [[variance(vec1, vec2) for vec2 in vectors] for vec1 in vectors]\n",
    "\n",
    "if __name__ == \"__main__\":\n",
    "    #識別に使う特徴 0:ガクの長さ 1:ガクの幅 2:花弁の長さ 3:花弁の幅\n",
    "    test_feature_list = [0, 1, 2, 3]\n",
    "    vectors = list()\n",
    "    test_vectors = [load(ayame_id=ayame_id, feature_list=test_feature_list) for ayame_id in range(1, 4)]\n",
    "\n",
    "    #特徴ベクトルの読み込み\n",
    "    for ayame_id in range(3):\n",
    "        vec_list = list()\n",
    "        for feature_id in test_feature_list:\n",
    "            vec_list.append(load(ayame_id=ayame_id+1, feature_list=feature_id))\n",
    "        vectors.append(vec_list)\n",
    "\n",
    "    #平均ベクトルの作成\n",
    "    means = [mean_list(*vector) for vector in vectors]\n",
    "\n",
    "    #識別率の確認\n",
    "    true_count = 0\n",
    "    false_count = 0\n",
    "    for ayame_id in range(3):\n",
    "        for vec in test_vectors[ayame_id]:\n",
    "            #尤度を求める\n",
    "            prob = [mnd(vec, _mu=mean_list(*vectors[test_id]), _sig=variance_covariance_matrix(*vectors[test_id])) for test_id in range(3)]\n",
    "            #最も尤度の高いクラスを分類結果とする\n",
    "            if prob.index(max(prob)) == ayame_id:\n",
    "                true_count += 1\n",
    "            else:\n",
    "                false_count += 1\n",
    "                \n",
    "    print(\"識別率: %f\" % (true_count / (true_count + false_count)))"
   ]
  },
  {
   "cell_type": "code",
   "execution_count": null,
   "metadata": {
    "collapsed": true
   },
   "outputs": [],
   "source": []
  },
  {
   "cell_type": "code",
   "execution_count": null,
   "metadata": {
    "collapsed": true
   },
   "outputs": [],
   "source": []
  },
  {
   "cell_type": "code",
   "execution_count": null,
   "metadata": {
    "collapsed": true
   },
   "outputs": [],
   "source": []
  }
 ],
 "metadata": {
  "kernelspec": {
   "display_name": "Python 2",
   "language": "python",
   "name": "python2"
  },
  "language_info": {
   "codemirror_mode": {
    "name": "ipython",
    "version": 2
   },
   "file_extension": ".py",
   "mimetype": "text/x-python",
   "name": "python",
   "nbconvert_exporter": "python",
   "pygments_lexer": "ipython2",
   "version": "2.7.9"
  }
 },
 "nbformat": 4,
 "nbformat_minor": 0
}
