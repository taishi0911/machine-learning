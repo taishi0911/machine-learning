{
 "cells": [
  {
   "cell_type": "code",
   "execution_count": 2,
   "metadata": {
    "collapsed": false
   },
   "outputs": [
    {
     "name": "stdout",
     "output_type": "stream",
     "text": [
      "[ 0.73667127  2.93128101] [ 3.2518452   1.09706058]\n"
     ]
    }
   ],
   "source": [
    "#coding:utf-8\n",
    "# 4.1.4 フィッシャーの線形判別（p.185）\n",
    "\n",
    "import numpy as np\n",
    "from pylab import *\n",
    "import sys\n",
    "\n",
    "N = 100  # データ数\n",
    "\n",
    "def f(x, a, b):\n",
    "    return a * x + b\n",
    "\n",
    "if __name__ == \"__main__\":\n",
    "    # 訓練データを作成\n",
    "    cls1 = []\n",
    "    cls2 = []\n",
    "    \n",
    "    # データは正規分布に従って生成\n",
    "    mean1 = [1, 3]  # クラス1の平均\n",
    "    mean2 = [3, 1]  # クラス2の平均\n",
    "    cov = [[2.0,0.0], [0.0, 0.1]]  # 共分散行列（全クラス共通）\n",
    "    \n",
    "    # データ作成\n",
    "    cls1.extend(np.random.multivariate_normal(mean1, cov, N/2))\n",
    "    cls2.extend(np.random.multivariate_normal(mean2, cov, N/2))\n",
    "    \n",
    "    # 各クラスの平均をプロット\n",
    "    m1 = np.mean(cls1, axis=0)\n",
    "    m2 = np.mean(cls2, axis=0)\n",
    "    plot([m1[0]], [m1[1]], 'b+')\n",
    "    plot([m2[0]], [m2[1]], 'r+')\n",
    "    print m1, m2\n",
    "    \n",
    "    # 総クラス内共分散行列を計算\n",
    "    Sw = zeros((2, 2))\n",
    "    for n in range(len(cls1)):\n",
    "        xn = matrix(cls1[n]).reshape(2, 1)\n",
    "        m1 = matrix(m1).reshape(2, 1)\n",
    "        Sw += (xn - m1) * transpose(xn - m1)\n",
    "    for n in range(len(cls2)):\n",
    "        xn = matrix(cls2[n]).reshape(2, 1)\n",
    "        m2 = matrix(m2).reshape(2, 1)\n",
    "        Sw += (xn - m2) * transpose(xn - m2)\n",
    "    Sw_inv = np.linalg.inv(Sw)\n",
    "    w = Sw_inv * (m2 - m1)\n",
    "    \n",
    "    # 訓練データを描画\n",
    "    x1, x2 = np.transpose(np.array(cls1))\n",
    "    plot(x1, x2, 'bo')\n",
    "    \n",
    "    x1, x2 = np.transpose(np.array(cls2))\n",
    "    plot(x1, x2, 'ro')\n",
    "    \n",
    "    # 識別境界を描画\n",
    "    # wは識別境界と直交するベクトル\n",
    "    a = - (w[0,0] / w[1,0])  # 識別直線の傾き\n",
    "    \n",
    "    # 傾きがaでmを通る直線のy切片bを求める\n",
    "    m = (m1 + m2) / 2\n",
    "    b = -a * m[0,0] + m[1,0]  # 識別直線のy切片\n",
    "    \n",
    "    x1 = np.linspace(-2, 6, 1000)\n",
    "    x2 = [f(x, a, b) for x in x1]\n",
    "    plot(x1, x2, 'g-')\n",
    "    \n",
    "    \n",
    "    xlim(-2, 6)\n",
    "    ylim(-2, 4)\n",
    "    show()"
   ]
  },
  {
   "cell_type": "code",
   "execution_count": null,
   "metadata": {
    "collapsed": true
   },
   "outputs": [],
   "source": []
  }
 ],
 "metadata": {
  "kernelspec": {
   "display_name": "Python 2",
   "language": "python",
   "name": "python2"
  },
  "language_info": {
   "codemirror_mode": {
    "name": "ipython",
    "version": 2
   },
   "file_extension": ".py",
   "mimetype": "text/x-python",
   "name": "python",
   "nbconvert_exporter": "python",
   "pygments_lexer": "ipython2",
   "version": "2.7.9"
  }
 },
 "nbformat": 4,
 "nbformat_minor": 0
}
