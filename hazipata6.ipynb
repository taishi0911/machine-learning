{
 "cells": [
  {
   "cell_type": "code",
   "execution_count": 69,
   "metadata": {
    "collapsed": false
   },
   "outputs": [
    {
     "name": "stdout",
     "output_type": "stream",
     "text": [
      "[ 0.9179799   2.97245024] [ 3.19866761  0.92120028]\n"
     ]
    }
   ],
   "source": [
    "import numpy as np\n",
    "from pylab import *\n",
    "import sys\n",
    "\n",
    "N = 100\n",
    "\n",
    "def f(x,a,b):\n",
    "    return a * x + b\n",
    "    \n",
    "if __name__== \"__main__\":\n",
    "    cls1 = []\n",
    "    cls2 = []\n",
    "    \n",
    "    mean1 = [1,3]\n",
    "    mean2 = [3,1]\n",
    "    cov = [[2.0,0.0],[0.0,0.1]]\n",
    "    cls1.extend(np.random.multivariate_normal(mean1,cov,N/2))\n",
    "    cls2.extend(np.random.multivariate_normal(mean2,cov,N/2))\n",
    "    \n",
    "    m1=np.mean(cls1,axis=0)\n",
    "    m2=np.mean(cls2,axis=0)\n",
    "    plot([m1[0]],[m1[1]],'b+')\n",
    "    plot([m2[0]],[m2[1]],'r+')\n",
    "    print m1,m2"
   ]
  },
  {
   "cell_type": "code",
   "execution_count": 70,
   "metadata": {
    "collapsed": false
   },
   "outputs": [],
   "source": [
    "Sw=zeros((2,2))\n",
    "for n in range(len(cls1)):\n",
    "    xn = matrix(cls1[n]).reshape(2,1)\n",
    "    m1 = matrix(m1).reshape(2,1)\n",
    "    Sw += (xn-m1) * transpose(xn-m1)\n",
    "for n in range(len(cls2)):\n",
    "    xn = matrix(cls2[n]).reshape(2,1)\n",
    "    m2 = matrix(m2).reshape(2,1)\n",
    "    Sw += (xn-m2) * transpose(xn-m2) \n",
    "Sw_inv = np.linalg.inv(Sw)\n",
    "w = Sw_inv*(m2-m1)"
   ]
  },
  {
   "cell_type": "code",
   "execution_count": 71,
   "metadata": {
    "collapsed": false
   },
   "outputs": [
    {
     "data": {
      "text/plain": [
       "[<matplotlib.lines.Line2D at 0x10dac73d0>]"
      ]
     },
     "execution_count": 71,
     "metadata": {},
     "output_type": "execute_result"
    }
   ],
   "source": [
    "x1,x2 = np.transpose(np.array(cls1))\n",
    "plot(x1,x2,'bo')\n",
    "x1,x2 = np.transpose(np.array(cls2))\n",
    "plot(x1,x2,'ro')"
   ]
  },
  {
   "cell_type": "code",
   "execution_count": 72,
   "metadata": {
    "collapsed": false
   },
   "outputs": [
    {
     "data": {
      "text/plain": [
       "[<matplotlib.lines.Line2D at 0x10da70650>]"
      ]
     },
     "execution_count": 72,
     "metadata": {},
     "output_type": "execute_result"
    }
   ],
   "source": [
    "a = -(w[0,0]/w[1,0])\n",
    "m = (m1 + m2) / 2\n",
    "b = -a * m[0,0] + m[1,0]\n",
    "x1 = np.linspace(-2,6,1000)\n",
    "x2 = [f(x,a,b) for x in x1]\n",
    "plot(x1,x2,'g-')"
   ]
  },
  {
   "cell_type": "code",
   "execution_count": 73,
   "metadata": {
    "collapsed": true
   },
   "outputs": [],
   "source": [
    "xlim(-2,6)\n",
    "ylim(-2,4)\n",
    "show()"
   ]
  },
  {
   "cell_type": "code",
   "execution_count": null,
   "metadata": {
    "collapsed": true
   },
   "outputs": [],
   "source": []
  }
 ],
 "metadata": {
  "kernelspec": {
   "display_name": "Python 2",
   "language": "python",
   "name": "python2"
  },
  "language_info": {
   "codemirror_mode": {
    "name": "ipython",
    "version": 2
   },
   "file_extension": ".py",
   "mimetype": "text/x-python",
   "name": "python",
   "nbconvert_exporter": "python",
   "pygments_lexer": "ipython2",
   "version": "2.7.9"
  }
 },
 "nbformat": 4,
 "nbformat_minor": 0
}
