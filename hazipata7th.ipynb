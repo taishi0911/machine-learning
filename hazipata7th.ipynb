{
 "cells": [
  {
   "cell_type": "code",
   "execution_count": 1,
   "metadata": {},
   "outputs": [],
   "source": [
    "# coding: UTF-8\n",
    "# 1次元のパーセプトロンの学習規則の実装例\n",
    "import numpy as np\n",
    "import matplotlib.pyplot as plt\n",
    "\n",
    "def train(wvec, xvec, is_c1):\n",
    "    low = 0.5#学習係数\n",
    "    if (np.dot(wvec,xvec) > 0) != is_c1:\n",
    "        if is_c1:\n",
    "            wvec_new = wvec + low*xvec\n",
    "        else:\n",
    "            wvec_new = wvec - low*xvec\n",
    "        return wvec_new\n",
    "    else:\n",
    "        return wvec"
   ]
  },
  {
   "cell_type": "code",
   "execution_count": 2,
   "metadata": {},
   "outputs": [],
   "source": [
    "if __name__ == '__main__':\n",
    "\n",
    "    data = np.array([[1.0, 1],[0.5, 1],[-0.2, 2],[-1.3, 2]])# データ群\n",
    "\n",
    "    features = data[:,0].reshape(data[:,0].size,1)# 特徴ベクトル\n",
    "    labels = data[:,1]# クラス（今回はc1=1,c2=2）\n",
    "    wvec = np.array([0.2, 0.3])# 初期の重みベクトル\n",
    "    is_c1s = (labels == 1)# c1かどうか booleanの配列\n",
    "\n",
    "    xvecs = np.c_[np.ones(features.size), features]#xvec[0] = 1"
   ]
  },
  {
   "cell_type": "code",
   "execution_count": 3,
   "metadata": {},
   "outputs": [
    {
     "name": "stdout",
     "output_type": "stream",
     "text": [
      "[-0.3   0.75]\n",
      "0.4\n"
     ]
    }
   ],
   "source": [
    "loop = 100\n",
    "    for j in range(loop):\n",
    "        for xvec, is_c1 in zip(xvecs, is_c1s):\n",
    "            wvec = train(wvec, xvec, is_c1)\n",
    "\n",
    "    print wvec\n",
    "    print -(wvec[0]/wvec[1])"
   ]
  },
  {
   "cell_type": "code",
   "execution_count": 4,
   "metadata": {},
   "outputs": [
    {
     "data": {
      "text/plain": [
       "<matplotlib.collections.PathCollection at 0x10a0ca950>"
      ]
     },
     "execution_count": 4,
     "output_type": "execute_result",
     "metadata": {}
    }
   ],
   "source": [
    "# グラフ描写\n",
    "plt.axhline(y=0, c='gray')\n",
    "plt.scatter(features[is_c1s], np.zeros(features[is_c1s].size), c='red', marker=\"o\")\n",
    "plt.scatter(features[~is_c1s], np.zeros(features[~is_c1s].size), c='yellow', marker=\"o\")"
   ]
  },
  {
   "cell_type": "code",
   "metadata": {},
   "outputs": [],
   "source": [
    "# 分離境界線\n",
    "plt.axvline(x=-(wvec[0]/wvec[1]), c='green')\n",
    "plt.show()"
   ]
  },
  {
   "cell_type": "code",
   "metadata": {},
   "outputs": [],
   "source": [
    ""
   ]
  },
  {
   "cell_type": "code",
   "metadata": {},
   "outputs": [],
   "source": [
    ""
   ]
  }
 ],
 "metadata": {
  "kernelspec": {
   "display_name": "Python 2",
   "language": "python",
   "name": "python2"
  },
  "language_info": {
   "codemirror_mode": {
    "name": "ipython",
    "version": 2.0
   },
   "file_extension": ".py",
   "mimetype": "text/x-python",
   "name": "python",
   "nbconvert_exporter": "python",
   "pygments_lexer": "ipython2",
   "version": "2.7.9"
  }
 },
 "nbformat": 4,
 "nbformat_minor": 0
}